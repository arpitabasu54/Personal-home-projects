{
 "cells": [
  {
   "cell_type": "markdown",
   "id": "96f6b964",
   "metadata": {},
   "source": [
    "### a game which we play with a computer- Stone, paper, scissor"
   ]
  },
  {
   "cell_type": "code",
   "execution_count": null,
   "id": "8411b80b",
   "metadata": {},
   "outputs": [],
   "source": [
    "import random\n",
    "print('[R]ock, [P]aper, [S]cissor ---- Game starts-- Shoot it!!!')\n",
    "print('choose a letter - R, P, S')\n",
    "user_choice = input('Enter any letter : ')\n",
    "print('The user chose :',user_choice)\n",
    "\n",
    "Choices = ['R', 'P', 'S']\n",
    "Opponent_choice = random.choice(Choices)\n",
    "print('The opponent chose :',Opponent_choice)\n",
    "if Opponent_choice == str.upper(user_choice):\n",
    "    print('It is a Tie!!')\n",
    "elif Opponent_choice == 'R' and str.upper(user_choice) == 'P':\n",
    "    print ('Opponent won with Rock tearing the paper')\n",
    "elif Opponent_choice == 'R' and str.upper(user_choice) == 'S':\n",
    "    print ('Opponent won with Rock breaking the Scissor')\n",
    "elif Opponent_choice == 'S' and str.upper(user_choice) == 'P':\n",
    "    print ('Opponent won!!')\n",
    "elif Opponent_choice == 'S' and str.upper(user_choice) == 'R':\n",
    "     print ('I won as Rock beats the Scissor')\n",
    "elif Opponent_choice == 'P' and str.upper(user_choice) == 'R':\n",
    "    print ('I won')\n",
    "else:\n",
    "    print ('I won from the opponent')\n",
    "\n",
    "\n"
   ]
  },
  {
   "cell_type": "markdown",
   "id": "b156ce6a",
   "metadata": {},
   "source": [
    "### ATM building"
   ]
  },
  {
   "cell_type": "code",
   "execution_count": null,
   "id": "fb0e38fa",
   "metadata": {},
   "outputs": [],
   "source": []
  },
  {
   "cell_type": "markdown",
   "id": "8a13a8f7",
   "metadata": {},
   "source": [
    "## 30May- one question solved in 16may file\n",
    "## 30 may- next questions"
   ]
  },
  {
   "cell_type": "code",
   "execution_count": null,
   "id": "783139b7",
   "metadata": {},
   "outputs": [],
   "source": []
  }
 ],
 "metadata": {
  "kernelspec": {
   "display_name": "Python 3",
   "language": "python",
   "name": "python3"
  },
  "language_info": {
   "codemirror_mode": {
    "name": "ipython",
    "version": 3
   },
   "file_extension": ".py",
   "mimetype": "text/x-python",
   "name": "python",
   "nbconvert_exporter": "python",
   "pygments_lexer": "ipython3",
   "version": "3.8.8"
  }
 },
 "nbformat": 4,
 "nbformat_minor": 5
}
